{
 "cells": [
  {
   "cell_type": "markdown",
   "metadata": {
    "colab_type": "text",
    "id": "HM6yVpCiA1DG"
   },
   "source": [
    "<h2> Use the Kaggle Song Lyrics Dataset to identify lyrics corresponding to the indie genre for training our model."
   ]
  },
  {
   "cell_type": "code",
   "execution_count": 0,
   "metadata": {
    "colab": {},
    "colab_type": "code",
    "id": "nXUifmckA1DI"
   },
   "outputs": [],
   "source": [
    "import pandas as pd\n",
    "import zipfile\n",
    "import os\n",
    "import shutil"
   ]
  },
  {
   "cell_type": "code",
   "execution_count": 2,
   "metadata": {
    "colab": {
     "base_uri": "https://localhost:8080/",
     "height": 122
    },
    "colab_type": "code",
    "id": "XKPCW3x8BTX5",
    "outputId": "9cbeb984-74d7-4536-9e22-9271e19e13f3"
   },
   "outputs": [
    {
     "name": "stdout",
     "output_type": "stream",
     "text": [
      "Go to this URL in a browser: https://accounts.google.com/o/oauth2/auth?client_id=947318989803-6bn6qk8qdgf4n4g3pfee6491hc0brc4i.apps.googleusercontent.com&redirect_uri=urn%3Aietf%3Awg%3Aoauth%3A2.0%3Aoob&scope=email%20https%3A%2F%2Fwww.googleapis.com%2Fauth%2Fdocs.test%20https%3A%2F%2Fwww.googleapis.com%2Fauth%2Fdrive%20https%3A%2F%2Fwww.googleapis.com%2Fauth%2Fdrive.photos.readonly%20https%3A%2F%2Fwww.googleapis.com%2Fauth%2Fpeopleapi.readonly&response_type=code\n",
      "\n",
      "Enter your authorization code:\n",
      "··········\n",
      "Mounted at /content/drive/\n"
     ]
    }
   ],
   "source": [
    "from google.colab import drive\n",
    "drive.mount('/content/drive/')"
   ]
  },
  {
   "cell_type": "code",
   "execution_count": 5,
   "metadata": {
    "colab": {
     "base_uri": "https://localhost:8080/",
     "height": 34
    },
    "colab_type": "code",
    "id": "46pHs7HoBueN",
    "outputId": "add09630-d28e-4102-b684-ed7b036c2f35"
   },
   "outputs": [
    {
     "name": "stdout",
     "output_type": "stream",
     "text": [
      "drive  sample_data\n"
     ]
    }
   ],
   "source": [
    "!ls"
   ]
  },
  {
   "cell_type": "code",
   "execution_count": 0,
   "metadata": {
    "colab": {},
    "colab_type": "code",
    "id": "JAVH1BtwA1DL"
   },
   "outputs": [],
   "source": [
    "#zip_data = '380000-lyrics-from-metrolyrics.zip'\n",
    "unzipped = '380000-lyrics-from-metrolyrics'\n",
    "#song_lyrics_path = os.path.join(os.getcwd(), unzipped)"
   ]
  },
  {
   "cell_type": "code",
   "execution_count": 0,
   "metadata": {
    "colab": {},
    "colab_type": "code",
    "id": "xubCwYQ9A1DN"
   },
   "outputs": [],
   "source": [
    "#if not os.path.exists(song_lyrics_path):\n",
    "#    ZIP_REF = zipfile.ZipFile(os.path.join(os.getcwd(), zip_data))\n",
    "    \n",
    "#    ZIP_REF.extractall()\n",
    "#    ZIP_REF.close()   "
   ]
  },
  {
   "cell_type": "code",
   "execution_count": 0,
   "metadata": {
    "colab": {},
    "colab_type": "code",
    "id": "CXZMKCfhA1DP"
   },
   "outputs": [],
   "source": [
    "data = pd.read_csv(os.path.join('/content/drive/My Drive/deep_learning_models/Seq_2_Seq_Models', '380000-lyrics-from-metrolyrics/lyrics.csv'))"
   ]
  },
  {
   "cell_type": "code",
   "execution_count": 10,
   "metadata": {
    "colab": {
     "base_uri": "https://localhost:8080/",
     "height": 204
    },
    "colab_type": "code",
    "id": "mXqRoeifA1DR",
    "outputId": "5c6b489e-a3e1-4804-c9b9-bab79b130826"
   },
   "outputs": [
    {
     "data": {
      "text/html": [
       "<div>\n",
       "<style scoped>\n",
       "    .dataframe tbody tr th:only-of-type {\n",
       "        vertical-align: middle;\n",
       "    }\n",
       "\n",
       "    .dataframe tbody tr th {\n",
       "        vertical-align: top;\n",
       "    }\n",
       "\n",
       "    .dataframe thead th {\n",
       "        text-align: right;\n",
       "    }\n",
       "</style>\n",
       "<table border=\"1\" class=\"dataframe\">\n",
       "  <thead>\n",
       "    <tr style=\"text-align: right;\">\n",
       "      <th></th>\n",
       "      <th>index</th>\n",
       "      <th>song</th>\n",
       "      <th>year</th>\n",
       "      <th>artist</th>\n",
       "      <th>genre</th>\n",
       "      <th>lyrics</th>\n",
       "    </tr>\n",
       "  </thead>\n",
       "  <tbody>\n",
       "    <tr>\n",
       "      <th>0</th>\n",
       "      <td>0</td>\n",
       "      <td>ego-remix</td>\n",
       "      <td>2009</td>\n",
       "      <td>beyonce-knowles</td>\n",
       "      <td>Pop</td>\n",
       "      <td>Oh baby, how you doing?\\nYou know I'm gonna cu...</td>\n",
       "    </tr>\n",
       "    <tr>\n",
       "      <th>1</th>\n",
       "      <td>1</td>\n",
       "      <td>then-tell-me</td>\n",
       "      <td>2009</td>\n",
       "      <td>beyonce-knowles</td>\n",
       "      <td>Pop</td>\n",
       "      <td>playin' everything so easy,\\nit's like you see...</td>\n",
       "    </tr>\n",
       "    <tr>\n",
       "      <th>2</th>\n",
       "      <td>2</td>\n",
       "      <td>honesty</td>\n",
       "      <td>2009</td>\n",
       "      <td>beyonce-knowles</td>\n",
       "      <td>Pop</td>\n",
       "      <td>If you search\\nFor tenderness\\nIt isn't hard t...</td>\n",
       "    </tr>\n",
       "    <tr>\n",
       "      <th>3</th>\n",
       "      <td>3</td>\n",
       "      <td>you-are-my-rock</td>\n",
       "      <td>2009</td>\n",
       "      <td>beyonce-knowles</td>\n",
       "      <td>Pop</td>\n",
       "      <td>Oh oh oh I, oh oh oh I\\n[Verse 1:]\\nIf I wrote...</td>\n",
       "    </tr>\n",
       "    <tr>\n",
       "      <th>4</th>\n",
       "      <td>4</td>\n",
       "      <td>black-culture</td>\n",
       "      <td>2009</td>\n",
       "      <td>beyonce-knowles</td>\n",
       "      <td>Pop</td>\n",
       "      <td>Party the people, the people the party it's po...</td>\n",
       "    </tr>\n",
       "  </tbody>\n",
       "</table>\n",
       "</div>"
      ],
      "text/plain": [
       "   index             song  year           artist genre  \\\n",
       "0      0        ego-remix  2009  beyonce-knowles   Pop   \n",
       "1      1     then-tell-me  2009  beyonce-knowles   Pop   \n",
       "2      2          honesty  2009  beyonce-knowles   Pop   \n",
       "3      3  you-are-my-rock  2009  beyonce-knowles   Pop   \n",
       "4      4    black-culture  2009  beyonce-knowles   Pop   \n",
       "\n",
       "                                              lyrics  \n",
       "0  Oh baby, how you doing?\\nYou know I'm gonna cu...  \n",
       "1  playin' everything so easy,\\nit's like you see...  \n",
       "2  If you search\\nFor tenderness\\nIt isn't hard t...  \n",
       "3  Oh oh oh I, oh oh oh I\\n[Verse 1:]\\nIf I wrote...  \n",
       "4  Party the people, the people the party it's po...  "
      ]
     },
     "execution_count": 10,
     "metadata": {
      "tags": []
     },
     "output_type": "execute_result"
    }
   ],
   "source": [
    "data.head()"
   ]
  },
  {
   "cell_type": "markdown",
   "metadata": {
    "colab_type": "text",
    "id": "Bu4WxZABA1DW"
   },
   "source": [
    "<h4> Now look at the different genres after dropping columns with no lyrics"
   ]
  },
  {
   "cell_type": "code",
   "execution_count": 11,
   "metadata": {
    "colab": {
     "base_uri": "https://localhost:8080/",
     "height": 297
    },
    "colab_type": "code",
    "id": "duF78G-gA1DX",
    "outputId": "a31c1739-3a3e-4bd6-e889-b7b444dfa074"
   },
   "outputs": [
    {
     "data": {
      "text/html": [
       "<div>\n",
       "<style scoped>\n",
       "    .dataframe tbody tr th:only-of-type {\n",
       "        vertical-align: middle;\n",
       "    }\n",
       "\n",
       "    .dataframe tbody tr th {\n",
       "        vertical-align: top;\n",
       "    }\n",
       "\n",
       "    .dataframe thead th {\n",
       "        text-align: right;\n",
       "    }\n",
       "</style>\n",
       "<table border=\"1\" class=\"dataframe\">\n",
       "  <thead>\n",
       "    <tr style=\"text-align: right;\">\n",
       "      <th></th>\n",
       "      <th>index</th>\n",
       "      <th>year</th>\n",
       "    </tr>\n",
       "  </thead>\n",
       "  <tbody>\n",
       "    <tr>\n",
       "      <th>count</th>\n",
       "      <td>362237.000000</td>\n",
       "      <td>362237.000000</td>\n",
       "    </tr>\n",
       "    <tr>\n",
       "      <th>mean</th>\n",
       "      <td>181118.000000</td>\n",
       "      <td>2008.537596</td>\n",
       "    </tr>\n",
       "    <tr>\n",
       "      <th>std</th>\n",
       "      <td>104568.959068</td>\n",
       "      <td>9.908024</td>\n",
       "    </tr>\n",
       "    <tr>\n",
       "      <th>min</th>\n",
       "      <td>0.000000</td>\n",
       "      <td>67.000000</td>\n",
       "    </tr>\n",
       "    <tr>\n",
       "      <th>25%</th>\n",
       "      <td>90559.000000</td>\n",
       "      <td>2006.000000</td>\n",
       "    </tr>\n",
       "    <tr>\n",
       "      <th>50%</th>\n",
       "      <td>181118.000000</td>\n",
       "      <td>2008.000000</td>\n",
       "    </tr>\n",
       "    <tr>\n",
       "      <th>75%</th>\n",
       "      <td>271677.000000</td>\n",
       "      <td>2014.000000</td>\n",
       "    </tr>\n",
       "    <tr>\n",
       "      <th>max</th>\n",
       "      <td>362236.000000</td>\n",
       "      <td>2038.000000</td>\n",
       "    </tr>\n",
       "  </tbody>\n",
       "</table>\n",
       "</div>"
      ],
      "text/plain": [
       "               index           year\n",
       "count  362237.000000  362237.000000\n",
       "mean   181118.000000    2008.537596\n",
       "std    104568.959068       9.908024\n",
       "min         0.000000      67.000000\n",
       "25%     90559.000000    2006.000000\n",
       "50%    181118.000000    2008.000000\n",
       "75%    271677.000000    2014.000000\n",
       "max    362236.000000    2038.000000"
      ]
     },
     "execution_count": 11,
     "metadata": {
      "tags": []
     },
     "output_type": "execute_result"
    }
   ],
   "source": [
    "data.dropna(subset=['lyrics'])\n",
    "data.describe()"
   ]
  },
  {
   "cell_type": "code",
   "execution_count": 12,
   "metadata": {
    "colab": {
     "base_uri": "https://localhost:8080/",
     "height": 238
    },
    "colab_type": "code",
    "id": "LoyLay9AA1DZ",
    "outputId": "9631b2ca-1ed3-4f6a-acbd-49fda738d27c"
   },
   "outputs": [
    {
     "data": {
      "text/plain": [
       "Rock             131377\n",
       "Pop               49444\n",
       "Hip-Hop           33965\n",
       "Not Available     29814\n",
       "Metal             28408\n",
       "Other             23683\n",
       "Country           17286\n",
       "Jazz              17147\n",
       "Electronic        16205\n",
       "R&B                5935\n",
       "Indie              5732\n",
       "Folk               3241\n",
       "Name: genre, dtype: int64"
      ]
     },
     "execution_count": 12,
     "metadata": {
      "tags": []
     },
     "output_type": "execute_result"
    }
   ],
   "source": [
    "data.genre.value_counts()"
   ]
  },
  {
   "cell_type": "markdown",
   "metadata": {
    "colab_type": "text",
    "id": "ul2kjzjTA1Dc"
   },
   "source": [
    "<h4> There are 5732 songs which are in the indie category. Let's use these as our training data. let's see what artists are included in the indie song list"
   ]
  },
  {
   "cell_type": "code",
   "execution_count": 13,
   "metadata": {
    "colab": {
     "base_uri": "https://localhost:8080/",
     "height": 34
    },
    "colab_type": "code",
    "id": "NgqnpIq2A1Dd",
    "outputId": "3cdcd0d5-2357-4146-db71-33d7af3c3684"
   },
   "outputs": [
    {
     "name": "stdout",
     "output_type": "stream",
     "text": [
      "Unique artists = 416\n"
     ]
    }
   ],
   "source": [
    "indie_data = data.loc[data.genre == 'Indie']\n",
    "print(\"Unique artists = {}\".format(len(set(indie_data.artist.values))))"
   ]
  },
  {
   "cell_type": "code",
   "execution_count": 0,
   "metadata": {
    "colab": {},
    "colab_type": "code",
    "id": "oAltVjw9A1Dg"
   },
   "outputs": [],
   "source": [
    "india_data = indie_data.astype({\"lyrics\": str})"
   ]
  },
  {
   "cell_type": "code",
   "execution_count": 0,
   "metadata": {
    "colab": {},
    "colab_type": "code",
    "id": "SCpHwDuuA1Di"
   },
   "outputs": [],
   "source": [
    "lyrics_data = indie_data['lyrics'].dropna().tolist()"
   ]
  },
  {
   "cell_type": "code",
   "execution_count": 16,
   "metadata": {
    "colab": {
     "base_uri": "https://localhost:8080/",
     "height": 54
    },
    "colab_type": "code",
    "id": "uvrnxt4tA1Dk",
    "outputId": "3e5d97e7-cec2-4db0-a503-d5410c0bbe89"
   },
   "outputs": [
    {
     "data": {
      "text/plain": [
       "\"Place outside where I pass to waste my time\\nIn the shadows of the dark you'll find\\nBehind sleepless eyes there's a woman\\nTaste of my sweet\\nLove like defeat can be so cruel\\nIt can fill you full for a while\\nYou're a lamb with fangs\\nGirl dressed like crimson flames\\nSo they see it\\nYou're like a bad burn\\nBut they never let you try\\nJust to feel it\\nTaste of my sweet\\nLove like defeat can be so cruel\\nIt can fill you full of wild dreams\\nAnd the back of your knees\\nCan you bend them for me please\\nI could meet you for a while\\nDressed so plain\\nI put my head in a frame\\nAnd the paints just words I scream\\nWrapped up in a pretty string\\nI leave a prize at the heels of your feet\\nTaste of my sweet\\nLove like defeat can be so cruel\\nIt can fill you full of wild dreams\\nAnd the back of your knees darling\\nCan you bend them for me please\\nI could meet you for a while\""
      ]
     },
     "execution_count": 16,
     "metadata": {
      "tags": []
     },
     "output_type": "execute_result"
    }
   ],
   "source": [
    "lyrics_data[1]"
   ]
  },
  {
   "cell_type": "markdown",
   "metadata": {
    "colab_type": "text",
    "id": "WycnCb27A1Dm"
   },
   "source": [
    "<h3> Clean the Lyrics Data before saving"
   ]
  },
  {
   "cell_type": "code",
   "execution_count": 17,
   "metadata": {
    "colab": {
     "base_uri": "https://localhost:8080/",
     "height": 88
    },
    "colab_type": "code",
    "id": "cdokWnrzA1Dn",
    "outputId": "fca0d26a-baa5-4d9b-8764-2e31f23054df"
   },
   "outputs": [
    {
     "name": "stdout",
     "output_type": "stream",
     "text": [
      "Num characters = 147 \n",
      "\n",
      "Unique Characters = ['\\n', ' ', '!', '\"', '#', '$', '%', '&', \"'\", '(', ')', '*', '+', ',', '-', '.', '/', '0', '1', '2', '3', '4', '5', '6', '7', '8', '9', ':', ';', '<', '=', '>', '?', '@', 'A', 'B', 'C', 'D', 'E', 'F', 'G', 'H', 'I', 'J', 'K', 'L', 'M', 'N', 'O', 'P', 'Q', 'R', 'S', 'T', 'U', 'V', 'W', 'X', 'Y', 'Z', '[', ']', '^', '_', '`', 'a', 'b', 'c', 'd', 'e', 'f', 'g', 'h', 'i', 'j', 'k', 'l', 'm', 'n', 'o', 'p', 'q', 'r', 's', 't', 'u', 'v', 'w', 'x', 'y', 'z', '{', '|', '}', '\\x80', '\\x81', '\\x82', '\\x83', '\\x85', '\\x86', '\\x87', '\\x88', '\\x89', '\\x8a', '\\x8d', '\\x8e', '\\x91', '\\x93', '\\x99', '\\x9a', '\\x9e', '\\x9f', '\\xa0', '¡', '¢', '£', '¤', '¥', '¦', '§', '¨', '©', 'ª', '«', '¬', '\\xad', '®', '¯', '°', '±', '²', '³', '´', '¶', '¹', 'º', '»', '¼', '½', '¾', '¿', 'Â', 'Ã', 'Å', 'â', 'ã', 'ï']\n"
     ]
    }
   ],
   "source": [
    "vocab = []\n",
    "for item in range(len(lyrics_data)):\n",
    "    vocab.append(sorted(set(lyrics_data[item])))\n",
    "flat_vocab = sorted(set([item for sublist in vocab for item in sublist]))\n",
    "print(\"Num characters = {} \\n\".format(len(flat_vocab)))\n",
    "print(\"Unique Characters = {}\".format(flat_vocab))"
   ]
  },
  {
   "cell_type": "code",
   "execution_count": 0,
   "metadata": {
    "colab": {},
    "colab_type": "code",
    "id": "c0RZsJkSA1Dq"
   },
   "outputs": [],
   "source": [
    "import numpy as np\n",
    "count_chars = np.array([0*len(flat_vocab)])\n",
    "\n",
    "for item in range(len(lyrics_data)):\n",
    "    vec = []\n",
    "    for char in flat_vocab:\n",
    "        vec.append(lyrics_data[item].count(char))\n",
    "    count_chars = count_chars +np.array(vec)\n"
   ]
  },
  {
   "cell_type": "markdown",
   "metadata": {
    "colab_type": "text",
    "id": "50bwcNezA1Dt"
   },
   "source": [
    "<h4> Get a sense of which characters are used and which ones are less frequently used so we can remove them from training"
   ]
  },
  {
   "cell_type": "code",
   "execution_count": 19,
   "metadata": {
    "colab": {
     "base_uri": "https://localhost:8080/",
     "height": 2516
    },
    "colab_type": "code",
    "id": "LD4KjnNcA1Dt",
    "outputId": "53511549-ec80-4b8c-d137-75655334c95f"
   },
   "outputs": [
    {
     "data": {
      "text/plain": [
       "{'\\n': 92486,\n",
       " ' ': 524250,\n",
       " '!': 865,\n",
       " '\"': 1148,\n",
       " '#': 4,\n",
       " '$': 1,\n",
       " '%': 1,\n",
       " '&': 33,\n",
       " \"'\": 34190,\n",
       " '(': 1799,\n",
       " ')': 1800,\n",
       " '*': 66,\n",
       " '+': 3,\n",
       " ',': 25580,\n",
       " '-': 1877,\n",
       " '.': 9238,\n",
       " '/': 66,\n",
       " '0': 179,\n",
       " '1': 195,\n",
       " '2': 238,\n",
       " '3': 104,\n",
       " '4': 145,\n",
       " '5': 82,\n",
       " '6': 60,\n",
       " '7': 30,\n",
       " '8': 39,\n",
       " '9': 67,\n",
       " ':': 420,\n",
       " ';': 143,\n",
       " '<': 1,\n",
       " '=': 20,\n",
       " '>': 1,\n",
       " '?': 4074,\n",
       " '@': 1,\n",
       " 'A': 13628,\n",
       " 'B': 5391,\n",
       " 'C': 4200,\n",
       " 'D': 3959,\n",
       " 'E': 4692,\n",
       " 'F': 2453,\n",
       " 'G': 2390,\n",
       " 'H': 4450,\n",
       " 'I': 35383,\n",
       " 'J': 1506,\n",
       " 'K': 956,\n",
       " 'L': 4095,\n",
       " 'M': 3761,\n",
       " 'N': 4438,\n",
       " 'O': 6057,\n",
       " 'P': 1796,\n",
       " 'Q': 349,\n",
       " 'R': 2481,\n",
       " 'S': 8176,\n",
       " 'T': 11685,\n",
       " 'U': 1478,\n",
       " 'V': 574,\n",
       " 'W': 8755,\n",
       " 'X': 66,\n",
       " 'Y': 5916,\n",
       " 'Z': 53,\n",
       " '[': 421,\n",
       " ']': 420,\n",
       " '^': 1,\n",
       " '_': 17,\n",
       " '`': 53,\n",
       " 'a': 166535,\n",
       " 'b': 31772,\n",
       " 'c': 41379,\n",
       " 'd': 86953,\n",
       " 'e': 280886,\n",
       " 'f': 38380,\n",
       " 'g': 56301,\n",
       " 'h': 121134,\n",
       " 'i': 131837,\n",
       " 'j': 4100,\n",
       " 'k': 29634,\n",
       " 'l': 109872,\n",
       " 'm': 66257,\n",
       " 'n': 164644,\n",
       " 'o': 205606,\n",
       " 'p': 28162,\n",
       " 'q': 2231,\n",
       " 'r': 118797,\n",
       " 's': 127357,\n",
       " 't': 192703,\n",
       " 'u': 87970,\n",
       " 'v': 26172,\n",
       " 'w': 58150,\n",
       " 'x': 1777,\n",
       " 'y': 72245,\n",
       " 'z': 1510,\n",
       " '{': 12,\n",
       " '|': 3,\n",
       " '}': 12,\n",
       " '\\x80': 22,\n",
       " '\\x81': 10,\n",
       " '\\x82': 2,\n",
       " '\\x83': 10,\n",
       " '\\x85': 1,\n",
       " '\\x86': 2,\n",
       " '\\x87': 14,\n",
       " '\\x88': 1,\n",
       " '\\x89': 12,\n",
       " '\\x8a': 3,\n",
       " '\\x8d': 1,\n",
       " '\\x8e': 3,\n",
       " '\\x91': 1,\n",
       " '\\x93': 48,\n",
       " '\\x99': 5,\n",
       " '\\x9a': 1,\n",
       " '\\x9e': 10,\n",
       " '\\x9f': 25,\n",
       " '\\xa0': 231,\n",
       " '¡': 153,\n",
       " '¢': 69,\n",
       " '£': 6,\n",
       " '¤': 20,\n",
       " '¥': 21,\n",
       " '¦': 41,\n",
       " '§': 136,\n",
       " '¨': 235,\n",
       " '©': 903,\n",
       " 'ª': 176,\n",
       " '«': 5,\n",
       " '¬': 9,\n",
       " '\\xad': 218,\n",
       " '®': 23,\n",
       " '¯': 9,\n",
       " '°': 85,\n",
       " '±': 42,\n",
       " '²': 14,\n",
       " '³': 120,\n",
       " '´': 28,\n",
       " '¶': 45,\n",
       " '¹': 49,\n",
       " 'º': 80,\n",
       " '»': 25,\n",
       " '¼': 15,\n",
       " '½': 11,\n",
       " '¾': 36,\n",
       " '¿': 6,\n",
       " 'Â': 40,\n",
       " 'Ã': 2866,\n",
       " 'Å': 46,\n",
       " 'â': 2,\n",
       " 'ã': 5,\n",
       " 'ï': 8}"
      ]
     },
     "execution_count": 19,
     "metadata": {
      "tags": []
     },
     "output_type": "execute_result"
    }
   ],
   "source": [
    "char_dict = dict(zip(flat_vocab, count_chars))\n",
    "char_dict"
   ]
  },
  {
   "cell_type": "markdown",
   "metadata": {
    "colab_type": "text",
    "id": "xtON3r9HA1Dx"
   },
   "source": [
    "<h4> This shows that as we expect mainly only alphanumerics are used, with characters like \\x88 having only 1 use. Naturally, we should not include these characters in training. The same holds for random fractions, hashtags etc. With this, let's start cleaning the data by first running it through a regex filter to remove all the non alphabetic characters and then some."
   ]
  },
  {
   "cell_type": "markdown",
   "metadata": {
    "colab_type": "text",
    "id": "WjeDge2tA1Dy"
   },
   "source": [
    "<h5> Clean out the characters that we don't need. write a function to do this"
   ]
  },
  {
   "cell_type": "code",
   "execution_count": 88,
   "metadata": {
    "colab": {
     "base_uri": "https://localhost:8080/",
     "height": 34
    },
    "colab_type": "code",
    "id": "qjzE1Yw6A1D1",
    "outputId": "cd3b3a49-a1b6-46fa-c726-eb7a2d1e4ec5"
   },
   "outputs": [
    {
     "name": "stdout",
     "output_type": "stream",
     "text": [
      "['\\n', ' ', '!', \"'\", ',', '.']\n"
     ]
    }
   ],
   "source": [
    "import re\n",
    "char_dict_as_list = list(char_dict.keys())\n",
    "forbidden_chars = char_dict_as_list[:3] + [char_dict_as_list[8]]+ [char_dict_as_list[13]] + [char_dict_as_list[15]]\n",
    "print(forbidden_chars)\n",
    "# apply the cleaning procedure to everything except new lines and spaces.\n",
    "def clean_text(text, regex):\n",
    "  out_string = ''\n",
    "  for item in text:\n",
    "    if item in forbidden_chars:\n",
    "      out_string += item\n",
    "    else:\n",
    "      out_string += re.sub(regex, '', item)\n",
    "    \n",
    "  return out_string\n",
    "#return [re.sub(regex, '', item) for item in text if item not in forbidden_chars]"
   ]
  },
  {
   "cell_type": "code",
   "execution_count": 89,
   "metadata": {
    "colab": {
     "base_uri": "https://localhost:8080/",
     "height": 85
    },
    "colab_type": "code",
    "id": "2t0C5xolGbWa",
    "outputId": "b2634635-d428-4600-d9e9-bd1d20c3ec27"
   },
   "outputs": [
    {
     "name": "stdout",
     "output_type": "stream",
     "text": [
      "Place outside where I pass to waste my time\n",
      "In the shadows of the dark you'll find\n",
      "Behind sleepless \n"
     ]
    },
    {
     "data": {
      "text/plain": [
       "\"Place outside where I pass to waste my time\\nIn the shadows of the dark you'll find\\nBehind sleepless \""
      ]
     },
     "execution_count": 89,
     "metadata": {
      "tags": []
     },
     "output_type": "execute_result"
    }
   ],
   "source": [
    "print(lyrics_data[1][:100])\n",
    "clean_text(lyrics_data[1][:100], r'[^A-Za-z]+')"
   ]
  },
  {
   "cell_type": "code",
   "execution_count": 0,
   "metadata": {
    "colab": {},
    "colab_type": "code",
    "id": "A8VkEruNA1D3"
   },
   "outputs": [],
   "source": [
    "cleaned_lyrics = []\n",
    "for item in range(len(lyrics_data)):\n",
    "    remaining_text = clean_text(lyrics_data[item], r'[^A-Za-z]+')\n",
    "    remaining_text = clean_text(remaining_text, r'[^\\x00-\\x7F]+')\n",
    "    #cleaned_lyrics.append(''.join([re.sub(r'[^\\s\\w_]+','', item) for item in lyrics_data[item]]))\n",
    "    cleaned_lyrics.append(remaining_text)"
   ]
  },
  {
   "cell_type": "code",
   "execution_count": 91,
   "metadata": {
    "colab": {
     "base_uri": "https://localhost:8080/",
     "height": 88
    },
    "colab_type": "code",
    "id": "7fj46U-QA1D6",
    "outputId": "ee94b978-a4cd-421c-e8bb-2cd7dd63935e"
   },
   "outputs": [
    {
     "name": "stdout",
     "output_type": "stream",
     "text": [
      "Num characters = 58 \n",
      "\n",
      "Unique Characters = ['\\n', ' ', '!', \"'\", ',', '.', 'A', 'B', 'C', 'D', 'E', 'F', 'G', 'H', 'I', 'J', 'K', 'L', 'M', 'N', 'O', 'P', 'Q', 'R', 'S', 'T', 'U', 'V', 'W', 'X', 'Y', 'Z', 'a', 'b', 'c', 'd', 'e', 'f', 'g', 'h', 'i', 'j', 'k', 'l', 'm', 'n', 'o', 'p', 'q', 'r', 's', 't', 'u', 'v', 'w', 'x', 'y', 'z']\n"
     ]
    }
   ],
   "source": [
    "vocab = []\n",
    "for item in range(len(cleaned_lyrics)):\n",
    "    vocab.append(sorted(set(cleaned_lyrics[item])))\n",
    "flat_vocab = sorted(set([item for sublist in vocab for item in sublist]))\n",
    "print(\"Num characters = {} \\n\".format(len(flat_vocab)))\n",
    "print(\"Unique Characters = {}\".format(flat_vocab))"
   ]
  },
  {
   "cell_type": "code",
   "execution_count": 92,
   "metadata": {
    "colab": {
     "base_uri": "https://localhost:8080/",
     "height": 54
    },
    "colab_type": "code",
    "id": "MnbD6bhdEYSi",
    "outputId": "0b513f9b-559b-4fbb-81d1-a13bd643d422"
   },
   "outputs": [
    {
     "data": {
      "text/plain": [
       "\"Place outside where I pass to waste my time\\nIn the shadows of the dark you'll find\\nBehind sleepless eyes there's a woman\\nTaste of my sweet\\nLove like defeat can be so cruel\\nIt can fill you full for a while\\nYou're a lamb with fangs\\nGirl dressed like crimson flames\\nSo they see it\\nYou're like a bad burn\\nBut they never let you try\\nJust to feel it\\nTaste of my sweet\\nLove like defeat can be so cruel\\nIt can fill you full of wild dreams\\nAnd the back of your knees\\nCan you bend them for me please\\nI could meet you for a while\\nDressed so plain\\nI put my head in a frame\\nAnd the paints just words I scream\\nWrapped up in a pretty string\\nI leave a prize at the heels of your feet\\nTaste of my sweet\\nLove like defeat can be so cruel\\nIt can fill you full of wild dreams\\nAnd the back of your knees darling\\nCan you bend them for me please\\nI could meet you for a while\""
      ]
     },
     "execution_count": 92,
     "metadata": {
      "tags": []
     },
     "output_type": "execute_result"
    }
   ],
   "source": [
    "cleaned_lyrics[1]"
   ]
  },
  {
   "cell_type": "markdown",
   "metadata": {
    "colab_type": "text",
    "id": "_JyBOFRiA1D8"
   },
   "source": [
    "<h5> A simple regex replacement reduces the number of characters in the cleaned lyrics dataset. Note that the second line in the \n",
    "loop removes control characters such as '\\x...\\. Now we only have alphabetic characters, lets look at a couple strings"
   ]
  },
  {
   "cell_type": "markdown",
   "metadata": {
    "colab_type": "text",
    "id": "1I9eCX-OA1D-"
   },
   "source": [
    "<h5> Write the lyrics data into a text file"
   ]
  },
  {
   "cell_type": "code",
   "execution_count": 0,
   "metadata": {
    "colab": {},
    "colab_type": "code",
    "id": "vESYCYp2A1D-"
   },
   "outputs": [],
   "source": [
    "os.chdir('/content/drive/My Drive/deep_learning_models/Seq_2_Seq_Models')\n",
    "with open(\"cleaned_lyrics.txt\", 'w') as f:\n",
    "    for item in cleaned_lyrics:\n",
    "        f.write(repr(\"\".join([x for x in item])))"
   ]
  },
  {
   "cell_type": "code",
   "execution_count": 100,
   "metadata": {
    "colab": {
     "base_uri": "https://localhost:8080/",
     "height": 136
    },
    "colab_type": "code",
    "id": "G3w8BOyMOW0a",
    "outputId": "ee6eefbd-82fe-4e1a-c13c-687a6abab066"
   },
   "outputs": [
    {
     "name": "stdout",
     "output_type": "stream",
     "text": [
      "/content/drive/My Drive/deep_learning_models/Seq_2_Seq_Models\n",
      "380000-lyrics-from-metrolyrics\t    main.ipynb\n",
      "380000-lyrics-from-metrolyrics.zip  main.py\n",
      "cleaned_lyrics.txt\t\t    song_lyrics.txt\n",
      "Extract_Song_Lyrics.ipynb\t    Text_Gen_Songs.ipynb\n",
      "Extract_Song_Lyrics.py\t\t    Text_Gen_Songs.py\n",
      "lyrics.txt\n"
     ]
    }
   ],
   "source": [
    "# check where the file was written\n",
    "print(os.getcwd())\n",
    "!ls"
   ]
  },
  {
   "cell_type": "markdown",
   "metadata": {
    "colab_type": "text",
    "id": "ag0NyWDrA1EA"
   },
   "source": [
    "<h3> This generates a set of lyrics associated with indie songs which is what we would like to train our model with"
   ]
  }
 ],
 "metadata": {
  "colab": {
   "name": "Extract_Song_Lyrics.ipynb",
   "provenance": [],
   "version": "0.3.2"
  },
  "kernelspec": {
   "display_name": "Python 3",
   "language": "python",
   "name": "python3"
  },
  "language_info": {
   "codemirror_mode": {
    "name": "ipython",
    "version": 3
   },
   "file_extension": ".py",
   "mimetype": "text/x-python",
   "name": "python",
   "nbconvert_exporter": "python",
   "pygments_lexer": "ipython3",
   "version": "3.7.0"
  }
 },
 "nbformat": 4,
 "nbformat_minor": 1
}
